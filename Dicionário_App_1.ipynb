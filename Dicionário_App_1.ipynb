{
  "nbformat": 4,
  "nbformat_minor": 0,
  "metadata": {
    "colab": {
      "name": "Dicionário - App 1",
      "provenance": [],
      "collapsed_sections": [],
      "mount_file_id": "1Z5Edf5gyqRhs6X3xl7fanqQb4Y3KyN_J",
      "authorship_tag": "ABX9TyNdmfbyrCQWR57ahllnMB06",
      "include_colab_link": true
    },
    "kernelspec": {
      "name": "python3",
      "display_name": "Python 3"
    },
    "language_info": {
      "name": "python"
    }
  },
  "cells": [
    {
      "cell_type": "markdown",
      "metadata": {
        "id": "view-in-github",
        "colab_type": "text"
      },
      "source": [
        "<a href=\"https://colab.research.google.com/github/pedro-git/Dicion-rio-em-python/blob/main/Dicion%C3%A1rio_App_1.ipynb\" target=\"_parent\"><img src=\"https://colab.research.google.com/assets/colab-badge.svg\" alt=\"Open In Colab\"/></a>"
      ]
    },
    {
      "cell_type": "code",
      "metadata": {
        "id": "wIgsFOe_0PgL"
      },
      "source": [
        "#Import Library and data json\n",
        "import json\n",
        "from difflib import SequenceMatcher\n",
        "from difflib import get_close_matches\n",
        "data = json.load(open(\"/content/drive/MyDrive/Curso Python_Apps /dictionary/data.json\"))\n",
        "\n",
        "#Function for the every case\n",
        "def translate (word):\n",
        "  word = word.lower()\n",
        "  if word in data:\n",
        "      return data[word]\n",
        "  elif len(get_close_matches(word,data.keys())) > 0 :\n",
        "      a = input(\"Did you mean %s instead ? Please, press Y if yes or N if no:\" % get_close_matches(word,data.keys())[0])\n",
        "      a = a.upper()        \n",
        "      if a == \"Y\":\n",
        "        return data[get_close_matches(word,data.keys())[0]]\n",
        "      elif a == \"N\":\n",
        "        return \"this word doesn't exist, please try again\"\n",
        "      else: \n",
        "        return \"Your query is wrong,please try again \"\n",
        "  else:\n",
        "    return \"no results found, please double check it your word\"\n",
        "    \n",
        "#Output\n",
        "word = input(\"Type you word:\")\n",
        "\n",
        "output = translate(word)\n",
        "\n",
        "if type(output) == list:\n",
        "  for i in output:\n",
        "    print(i)\n",
        "else:\n",
        "  print(output)"
      ],
      "execution_count": null,
      "outputs": []
    },
    {
      "cell_type": "markdown",
      "metadata": {
        "id": "bmXJ_dz4DCXn"
      },
      "source": [
        "#Issues with proper noun and acronyms\n"
      ]
    },
    {
      "cell_type": "code",
      "metadata": {
        "id": "j-MAVVZoQyeJ"
      },
      "source": [
        "\n",
        "#Import Library and data json\n",
        "import json\n",
        "from difflib import SequenceMatcher\n",
        "from difflib import get_close_matches\n",
        "data = json.load(open(\"/content/drive/MyDrive/Curso Python_Apps /dictionary/data.json\"))\n",
        "\n",
        "#Function for the every case\n",
        "def translate (word):\n",
        "  word = word.lower()\n",
        "  if word in data:\n",
        "      return data[word]\n",
        "  elif word.title() in data: #proper noun\n",
        "      return data[word.title()]\n",
        "  elif word.upper() in data: #acronyms\n",
        "      return data[word.upper()]\n",
        "  elif len(get_close_matches(word,data.keys())) > 0 :\n",
        "      a = input(\"Did you mean %s instead ? Please, press Y if yes or N if no:\" % get_close_matches(word,data.keys())[0])\n",
        "      a = a.upper()        \n",
        "      if a == \"Y\":\n",
        "        return data[get_close_matches(word,data.keys())[0]]\n",
        "      elif a == \"N\":\n",
        "        return \"this word doesn't exist, please try again\"\n",
        "      else: \n",
        "        return \"Your query is wrong,please try again \"\n",
        "  else:\n",
        "    return \"no results found, please double check it your word\"\n",
        "    \n",
        "#Output\n",
        "word = input(\"Type you word:\")\n",
        "\n",
        "output = translate(word)\n",
        "\n",
        "if type(output) == list:\n",
        "  for i in output:\n",
        "    print(i)\n",
        "else:\n",
        "  print(output)\n"
      ],
      "execution_count": null,
      "outputs": []
    },
    {
      "cell_type": "markdown",
      "metadata": {
        "id": "eS2YUOQVFvce"
      },
      "source": [
        "#SQL integration\n",
        "\n"
      ]
    },
    {
      "cell_type": "code",
      "metadata": {
        "colab": {
          "base_uri": "https://localhost:8080/"
        },
        "id": "p0ssh7-AFvLX",
        "outputId": "a0a9b0a2-d85c-4c22-ecf8-9402ff63885f"
      },
      "source": [
        "!pip install mysql-connector-python\n",
        "import mysql.connector\n",
        "\n",
        "con = mysql.connector.connect(\n",
        "user = \"ardit700_student\",\n",
        "password = \"ardit700_student\",\n",
        "host = '108.167.140.122',\n",
        "database = 'ardit700_pm1database'\n",
        ")\n",
        "\n",
        "cursor = con.cursor()\n",
        "word = input(\"Enter a word: \")\n",
        "query = cursor.execute(\"SELECT * FROM Dictionary WHERE Expression ='%s' \" % word )\n",
        "results = cursor.fetchall()\n",
        "\n",
        "if results:\n",
        "    for results in results:\n",
        "      print(results[1])\n",
        "else:\n",
        "  print(\"No word found it\")"
      ],
      "execution_count": null,
      "outputs": [
        {
          "output_type": "stream",
          "name": "stdout",
          "text": [
            "Requirement already satisfied: mysql-connector-python in /usr/local/lib/python3.7/dist-packages (8.0.26)\n",
            "Requirement already satisfied: protobuf>=3.0.0 in /usr/local/lib/python3.7/dist-packages (from mysql-connector-python) (3.17.3)\n",
            "Requirement already satisfied: six>=1.9 in /usr/local/lib/python3.7/dist-packages (from protobuf>=3.0.0->mysql-connector-python) (1.15.0)\n",
            "Enter a word: rain\n",
            "Precipitation in the form of liquid water drops with diameters greater than 0.5 millimetres.\n",
            "To fall from the clouds in drops of water.\n"
          ]
        }
      ]
    }
  ]
}